{
 "cells": [
  {
   "cell_type": "markdown",
   "metadata": {
    "nbsphinx": "hidden"
   },
   "source": [
    "[Index](Index.ipynb) - [Back](Widget Basics.ipynb) - [Next](Widget Events.ipynb)"
   ]
  },
  {
   "cell_type": "markdown",
   "metadata": {},
   "source": [
    "# Widget List"
   ]
  },
  {
   "cell_type": "markdown",
   "metadata": {},
   "source": [
    "## Complete list"
   ]
  },
  {
   "cell_type": "markdown",
   "metadata": {
    "slideshow": {
     "slide_type": "slide"
    }
   },
   "source": [
    "For a complete list of the GUI widgets available to you, you can list the registered widget types.  `Widget` and `DOMWidget`, not listed below, are base classes."
   ]
  },
  {
   "cell_type": "code",
   "execution_count": 1,
   "metadata": {
    "collapsed": false
   },
   "outputs": [
    {
     "data": {
      "text/plain": [
       "{'Jupyter.Accordion': ipywidgets.widgets.widget_selectioncontainer.Accordion,\n",
       " 'Jupyter.BoundedFloatText': ipywidgets.widgets.widget_float.BoundedFloatText,\n",
       " 'Jupyter.BoundedIntText': ipywidgets.widgets.widget_int.BoundedIntText,\n",
       " 'Jupyter.Box': ipywidgets.widgets.widget_box.Box,\n",
       " 'Jupyter.Button': ipywidgets.widgets.widget_button.Button,\n",
       " 'Jupyter.Checkbox': ipywidgets.widgets.widget_bool.Checkbox,\n",
       " 'Jupyter.ColorPicker': ipywidgets.widgets.widget_color.ColorPicker,\n",
       " 'Jupyter.Controller': ipywidgets.widgets.widget_controller.Controller,\n",
       " 'Jupyter.ControllerAxis': ipywidgets.widgets.widget_controller.Axis,\n",
       " 'Jupyter.ControllerButton': ipywidgets.widgets.widget_controller.Button,\n",
       " 'Jupyter.DatePicker': ipywidgets.widgets.widget_date.DatePicker,\n",
       " 'Jupyter.Dropdown': ipywidgets.widgets.widget_selection.Dropdown,\n",
       " 'Jupyter.FloatProgress': ipywidgets.widgets.widget_float.FloatProgress,\n",
       " 'Jupyter.FloatRangeSlider': ipywidgets.widgets.widget_float.FloatRangeSlider,\n",
       " 'Jupyter.FloatSlider': ipywidgets.widgets.widget_float.FloatSlider,\n",
       " 'Jupyter.FloatText': ipywidgets.widgets.widget_float.FloatText,\n",
       " 'Jupyter.HBox': ipywidgets.widgets.widget_box.HBox,\n",
       " 'Jupyter.HTML': ipywidgets.widgets.widget_string.HTML,\n",
       " 'Jupyter.Image': ipywidgets.widgets.widget_image.Image,\n",
       " 'Jupyter.IntProgress': ipywidgets.widgets.widget_int.IntProgress,\n",
       " 'Jupyter.IntRangeSlider': ipywidgets.widgets.widget_int.IntRangeSlider,\n",
       " 'Jupyter.IntSlider': ipywidgets.widgets.widget_int.IntSlider,\n",
       " 'Jupyter.IntText': ipywidgets.widgets.widget_int.IntText,\n",
       " 'Jupyter.Label': ipywidgets.widgets.widget_string.Label,\n",
       " 'Jupyter.PlaceProxy': ipywidgets.widgets.widget_box.PlaceProxy,\n",
       " 'Jupyter.Play': ipywidgets.widgets.widget_int.Play,\n",
       " 'Jupyter.Proxy': ipywidgets.widgets.widget_box.Proxy,\n",
       " 'Jupyter.RadioButtons': ipywidgets.widgets.widget_selection.RadioButtons,\n",
       " 'Jupyter.Select': ipywidgets.widgets.widget_selection.Select,\n",
       " 'Jupyter.SelectMultiple': ipywidgets.widgets.widget_selection.SelectMultiple,\n",
       " 'Jupyter.SelectionSlider': ipywidgets.widgets.widget_selection.SelectionSlider,\n",
       " 'Jupyter.Tab': ipywidgets.widgets.widget_selectioncontainer.Tab,\n",
       " 'Jupyter.Text': ipywidgets.widgets.widget_string.Text,\n",
       " 'Jupyter.Textarea': ipywidgets.widgets.widget_string.Textarea,\n",
       " 'Jupyter.ToggleButton': ipywidgets.widgets.widget_bool.ToggleButton,\n",
       " 'Jupyter.ToggleButtons': ipywidgets.widgets.widget_selection.ToggleButtons,\n",
       " 'Jupyter.VBox': ipywidgets.widgets.widget_box.VBox,\n",
       " 'Jupyter.Valid': ipywidgets.widgets.widget_bool.Valid,\n",
       " 'jupyter.DirectionalLink': ipywidgets.widgets.widget_link.DirectionalLink,\n",
       " 'jupyter.Link': ipywidgets.widgets.widget_link.Link}"
      ]
     },
     "execution_count": 1,
     "metadata": {},
     "output_type": "execute_result"
    }
   ],
   "source": [
    "import ipywidgets as widgets\n",
    "widgets.Widget.widget_types"
   ]
  },
  {
   "cell_type": "markdown",
   "metadata": {
    "slideshow": {
     "slide_type": "slide"
    }
   },
   "source": [
    "## Numeric widgets"
   ]
  },
  {
   "cell_type": "markdown",
   "metadata": {},
   "source": [
    "There are 8 widgets distributed with IPython that are designed to display numeric values.  Widgets exist for displaying integers and floats, both bounded and unbounded.  The integer widgets share a similar naming scheme to their floating point counterparts.  By replacing `Float` with `Int` in the widget name, you can find the Integer equivalent."
   ]
  },
  {
   "cell_type": "markdown",
   "metadata": {},
   "source": [
    "### IntSlider"
   ]
  },
  {
   "cell_type": "code",
   "execution_count": 2,
   "metadata": {
    "collapsed": false
   },
   "outputs": [
    {
     "data": {
      "application/vnd.jupyter.widget-view+json": {
       "model_id": "53d11a3db0f5422cb62715936d039718"
      }
     },
     "metadata": {},
     "output_type": "display_data"
    }
   ],
   "source": [
    "widgets.IntSlider(\n",
    "    value=7,\n",
    "    min=0,\n",
    "    max=10,\n",
    "    step=1,\n",
    "    description='Test:',\n",
    "    disabled=False,\n",
    "    continuous_update=False,\n",
    "    orientation='horizontal',\n",
    "    readout=True,\n",
    "    readout_format='i',\n",
    "    slider_color='white'\n",
    ")"
   ]
  },
  {
   "cell_type": "markdown",
   "metadata": {
    "slideshow": {
     "slide_type": "slide"
    }
   },
   "source": [
    "### FloatSlider"
   ]
  },
  {
   "cell_type": "code",
   "execution_count": 3,
   "metadata": {
    "collapsed": false
   },
   "outputs": [
    {
     "data": {
      "application/vnd.jupyter.widget-view+json": {
       "model_id": "3f276428bf99484589d8f9a6870ce975"
      }
     },
     "metadata": {},
     "output_type": "display_data"
    }
   ],
   "source": [
    "widgets.FloatSlider(\n",
    "    value=7.5,\n",
    "    min=0,\n",
    "    max=10.0,\n",
    "    step=0.1,\n",
    "    description='Test:',\n",
    "    disabled=False,\n",
    "    continuous_update=False,\n",
    "    orientation='horizontal',\n",
    "    readout=True,\n",
    "    readout_format='.1f',\n",
    "    slider_color='white'\n",
    ")"
   ]
  },
  {
   "cell_type": "markdown",
   "metadata": {},
   "source": [
    "Sliders can also be **displayed vertically**."
   ]
  },
  {
   "cell_type": "code",
   "execution_count": 4,
   "metadata": {
    "collapsed": false
   },
   "outputs": [
    {
     "data": {
      "application/vnd.jupyter.widget-view+json": {
       "model_id": "5d83df4ce59e4814b46852595212d767"
      }
     },
     "metadata": {},
     "output_type": "display_data"
    }
   ],
   "source": [
    "widgets.FloatSlider(\n",
    "    value=7.5,\n",
    "    min=0,\n",
    "    max=10.0,\n",
    "    step=0.1,\n",
    "    description='Test:',\n",
    "    disabled=False,\n",
    "    continuous_update=False,\n",
    "    orientation='vertical',\n",
    "    readout=True,\n",
    "    readout_format='.1f',\n",
    "    slider_color='white'\n",
    ")"
   ]
  },
  {
   "cell_type": "markdown",
   "metadata": {},
   "source": [
    "### IntRangeSlider"
   ]
  },
  {
   "cell_type": "code",
   "execution_count": 5,
   "metadata": {
    "collapsed": false
   },
   "outputs": [
    {
     "data": {
      "application/vnd.jupyter.widget-view+json": {
       "model_id": "944d00da07b944a38e6af6588aa51e95"
      }
     },
     "metadata": {},
     "output_type": "display_data"
    }
   ],
   "source": [
    "widgets.IntRangeSlider(\n",
    "    value=[5, 7],\n",
    "    min=0,\n",
    "    max=10,\n",
    "    step=1,\n",
    "    description='Test:',\n",
    "    disabled=False,\n",
    "    continuous_update=False,\n",
    "    orientation='horizontal',\n",
    "    readout=True,\n",
    "    readout_format='i',\n",
    "    slider_color='white',\n",
    "    color='black'\n",
    ")"
   ]
  },
  {
   "cell_type": "markdown",
   "metadata": {},
   "source": [
    "### FloatRangeSlider"
   ]
  },
  {
   "cell_type": "code",
   "execution_count": 6,
   "metadata": {
    "collapsed": false
   },
   "outputs": [
    {
     "data": {
      "application/vnd.jupyter.widget-view+json": {
       "model_id": "9e801022dd9e4c0b83c438d9528203e3"
      }
     },
     "metadata": {},
     "output_type": "display_data"
    }
   ],
   "source": [
    "widgets.FloatRangeSlider(\n",
    "    value=[5, 7.5],\n",
    "    min=0,\n",
    "    max=10.0,\n",
    "    step=0.1,\n",
    "    description='Test:',\n",
    "    disabled=False,\n",
    "    continuous_update=False,\n",
    "    orientation='horizontal',\n",
    "    readout=True,\n",
    "    readout_format='i',\n",
    "    slider_color='white',\n",
    "    color='black'\n",
    ")"
   ]
  },
  {
   "cell_type": "markdown",
   "metadata": {},
   "source": [
    "### IntProgress"
   ]
  },
  {
   "cell_type": "code",
   "execution_count": 7,
   "metadata": {
    "collapsed": false
   },
   "outputs": [
    {
     "data": {
      "application/vnd.jupyter.widget-view+json": {
       "model_id": "71fb30ff2f4d4163b41fb6a41112a21d"
      }
     },
     "metadata": {},
     "output_type": "display_data"
    }
   ],
   "source": [
    "widgets.IntProgress(\n",
    "    value=7,\n",
    "    min=0,\n",
    "    max=10,\n",
    "    step=1,\n",
    "    description='Loading:',\n",
    "    bar_style='', # 'success', 'info', 'warning', 'danger' or ''\n",
    "    orientation='horizontal'\n",
    ")"
   ]
  },
  {
   "cell_type": "markdown",
   "metadata": {
    "slideshow": {
     "slide_type": "slide"
    }
   },
   "source": [
    "### FloatProgress"
   ]
  },
  {
   "cell_type": "code",
   "execution_count": 8,
   "metadata": {
    "collapsed": false
   },
   "outputs": [
    {
     "data": {
      "application/vnd.jupyter.widget-view+json": {
       "model_id": "541ed4f76bf5428faa519c5bf855d31c"
      }
     },
     "metadata": {},
     "output_type": "display_data"
    }
   ],
   "source": [
    "widgets.FloatProgress(\n",
    "    value=7.5,\n",
    "    min=0,\n",
    "    max=10.0,\n",
    "    step=0.1,\n",
    "    description='Loading:',\n",
    "    bar_style='info',\n",
    "    orientation='horizontal'\n",
    ")"
   ]
  },
  {
   "cell_type": "markdown",
   "metadata": {},
   "source": [
    "### BoundedIntText"
   ]
  },
  {
   "cell_type": "code",
   "execution_count": 9,
   "metadata": {
    "collapsed": false
   },
   "outputs": [
    {
     "data": {
      "application/vnd.jupyter.widget-view+json": {
       "model_id": "98d2da0d8b1446aea74df627deea8da0"
      }
     },
     "metadata": {},
     "output_type": "display_data"
    }
   ],
   "source": [
    "widgets.BoundedIntText(\n",
    "    value=7,\n",
    "    min=0,\n",
    "    max=10,\n",
    "    step=1,\n",
    "    description='Text:',\n",
    "    disabled=False\n",
    ")"
   ]
  },
  {
   "cell_type": "markdown",
   "metadata": {
    "slideshow": {
     "slide_type": "slide"
    }
   },
   "source": [
    "### BoundedFloatText"
   ]
  },
  {
   "cell_type": "code",
   "execution_count": 10,
   "metadata": {
    "collapsed": false
   },
   "outputs": [
    {
     "data": {
      "application/vnd.jupyter.widget-view+json": {
       "model_id": "02c96e8f227b414f97cd516efe0ad45f"
      }
     },
     "metadata": {},
     "output_type": "display_data"
    }
   ],
   "source": [
    "widgets.BoundedFloatText(\n",
    "    value=7.5,\n",
    "    min=0,\n",
    "    max=10.0,\n",
    "    step=0.1,\n",
    "    description='Text:',\n",
    "    disabled=False,\n",
    "    color='black'\n",
    ")"
   ]
  },
  {
   "cell_type": "markdown",
   "metadata": {},
   "source": [
    "### IntText"
   ]
  },
  {
   "cell_type": "code",
   "execution_count": 11,
   "metadata": {
    "collapsed": false
   },
   "outputs": [
    {
     "data": {
      "application/vnd.jupyter.widget-view+json": {
       "model_id": "7b35329828cc49c48848ae6aa2236365"
      }
     },
     "metadata": {},
     "output_type": "display_data"
    }
   ],
   "source": [
    "widgets.IntText(\n",
    "    value=7,\n",
    "    description='Any:',\n",
    "    disabled=False\n",
    ")"
   ]
  },
  {
   "cell_type": "markdown",
   "metadata": {
    "slideshow": {
     "slide_type": "slide"
    }
   },
   "source": [
    "### FloatText"
   ]
  },
  {
   "cell_type": "code",
   "execution_count": 12,
   "metadata": {
    "collapsed": false
   },
   "outputs": [
    {
     "data": {
      "application/vnd.jupyter.widget-view+json": {
       "model_id": "0c0abf0c55bf45668a0532e61eca9990"
      }
     },
     "metadata": {},
     "output_type": "display_data"
    }
   ],
   "source": [
    "widgets.FloatText(\n",
    "    value=7.5,\n",
    "    description='Any:',\n",
    "    disabled=False,\n",
    "    color='black'\n",
    ")"
   ]
  },
  {
   "cell_type": "markdown",
   "metadata": {
    "slideshow": {
     "slide_type": "slide"
    }
   },
   "source": [
    "## Boolean widgets"
   ]
  },
  {
   "cell_type": "markdown",
   "metadata": {},
   "source": [
    "There are three widgets that are designed to display a boolean value."
   ]
  },
  {
   "cell_type": "markdown",
   "metadata": {},
   "source": [
    "### ToggleButton"
   ]
  },
  {
   "cell_type": "code",
   "execution_count": 13,
   "metadata": {
    "collapsed": false
   },
   "outputs": [
    {
     "data": {
      "application/vnd.jupyter.widget-view+json": {
       "model_id": "2b2fda6e3dac4be6aee4b8d6b23c0664"
      }
     },
     "metadata": {},
     "output_type": "display_data"
    }
   ],
   "source": [
    "widgets.ToggleButton(\n",
    "    value=False,\n",
    "    description='Click me',\n",
    "    disabled=False,\n",
    "    button_style='', # 'success', 'info', 'warning', 'danger' or ''\n",
    "    tooltip='Description',\n",
    "    icon='check'\n",
    ")"
   ]
  },
  {
   "cell_type": "markdown",
   "metadata": {
    "slideshow": {
     "slide_type": "slide"
    }
   },
   "source": [
    "### Checkbox"
   ]
  },
  {
   "cell_type": "code",
   "execution_count": 14,
   "metadata": {
    "collapsed": false
   },
   "outputs": [
    {
     "data": {
      "application/vnd.jupyter.widget-view+json": {
       "model_id": "b7904a077f60462a9ec9803c54553129"
      }
     },
     "metadata": {},
     "output_type": "display_data"
    }
   ],
   "source": [
    "widgets.Checkbox(\n",
    "    value=False,\n",
    "    description='Check me',\n",
    "    disabled=False\n",
    ")"
   ]
  },
  {
   "cell_type": "markdown",
   "metadata": {},
   "source": [
    "### Valid\n",
    "\n",
    "The valid widget provides a read-only indicator."
   ]
  },
  {
   "cell_type": "code",
   "execution_count": 15,
   "metadata": {
    "collapsed": false
   },
   "outputs": [
    {
     "data": {
      "application/vnd.jupyter.widget-view+json": {
       "model_id": "af2437ff08b949a8902a6abddd91dd8d"
      }
     },
     "metadata": {},
     "output_type": "display_data"
    }
   ],
   "source": [
    "widgets.Valid(\n",
    "    value=False,\n",
    "    description='Valid!',\n",
    "    disabled=False\n",
    ")"
   ]
  },
  {
   "cell_type": "markdown",
   "metadata": {
    "slideshow": {
     "slide_type": "slide"
    }
   },
   "source": [
    "## Selection widgets"
   ]
  },
  {
   "cell_type": "markdown",
   "metadata": {},
   "source": [
    "There are four widgets that can be used to display single selection lists, and one that can be used to display multiple selection lists.  All inherit from the same base class.  You can specify the **enumeration of selectable options by passing a list**.  You can **also specify the enumeration as a dictionary**, in which case the **keys will be used as the item displayed** in the list and the corresponding **value will be returned** when an item is selected."
   ]
  },
  {
   "cell_type": "markdown",
   "metadata": {
    "slideshow": {
     "slide_type": "slide"
    }
   },
   "source": [
    "### Dropdown"
   ]
  },
  {
   "cell_type": "code",
   "execution_count": 16,
   "metadata": {
    "collapsed": false
   },
   "outputs": [
    {
     "data": {
      "application/vnd.jupyter.widget-view+json": {
       "model_id": "b02e9fd919cc4d5d9e6e3ba7c72a8c5d"
      }
     },
     "metadata": {},
     "output_type": "display_data"
    }
   ],
   "source": [
    "widgets.Dropdown(\n",
    "    options=['1', '2', '3'],\n",
    "    value='2',\n",
    "    description='Number:',\n",
    "    disabled=False,\n",
    "    button_style='' # 'success', 'info', 'warning', 'danger' or ''\n",
    ")"
   ]
  },
  {
   "cell_type": "markdown",
   "metadata": {},
   "source": [
    "The following is also valid:"
   ]
  },
  {
   "cell_type": "code",
   "execution_count": 17,
   "metadata": {
    "collapsed": false
   },
   "outputs": [
    {
     "data": {
      "application/vnd.jupyter.widget-view+json": {
       "model_id": "bc2113dd1f06432aaa4ab33e07a94eb1"
      }
     },
     "metadata": {},
     "output_type": "display_data"
    }
   ],
   "source": [
    "widgets.Dropdown(\n",
    "    options={'One': 1, 'Two': 2, 'Three': 3},\n",
    "    value=2,\n",
    "    description='Number:',\n",
    ")"
   ]
  },
  {
   "cell_type": "markdown",
   "metadata": {
    "slideshow": {
     "slide_type": "slide"
    }
   },
   "source": [
    "### RadioButtons"
   ]
  },
  {
   "cell_type": "code",
   "execution_count": 18,
   "metadata": {
    "collapsed": false
   },
   "outputs": [
    {
     "data": {
      "application/vnd.jupyter.widget-view+json": {
       "model_id": "29231e00589a4735b7e624f94c226f94"
      }
     },
     "metadata": {},
     "output_type": "display_data"
    }
   ],
   "source": [
    "widgets.RadioButtons(\n",
    "    options=['pepperoni', 'pineapple', 'anchovies'],\n",
    "#     value='pineapple',\n",
    "    description='Pizza topping:',\n",
    "    disabled=False\n",
    ")"
   ]
  },
  {
   "cell_type": "markdown",
   "metadata": {
    "slideshow": {
     "slide_type": "slide"
    }
   },
   "source": [
    "### Select"
   ]
  },
  {
   "cell_type": "code",
   "execution_count": 19,
   "metadata": {
    "collapsed": false
   },
   "outputs": [
    {
     "data": {
      "application/vnd.jupyter.widget-view+json": {
       "model_id": "fc18507215654804978057de1a83450d"
      }
     },
     "metadata": {},
     "output_type": "display_data"
    }
   ],
   "source": [
    "widgets.Select(\n",
    "    options=['Linux', 'Windows', 'OSX'],\n",
    "#     value='OSX',\n",
    "    description='OS:',\n",
    "    disabled=False\n",
    ")"
   ]
  },
  {
   "cell_type": "markdown",
   "metadata": {},
   "source": [
    "### SelectionSlider"
   ]
  },
  {
   "cell_type": "code",
   "execution_count": 20,
   "metadata": {
    "collapsed": false
   },
   "outputs": [
    {
     "data": {
      "application/vnd.jupyter.widget-view+json": {
       "model_id": "152816e4bf78439e91a091d9fc6cddc0"
      }
     },
     "metadata": {},
     "output_type": "display_data"
    }
   ],
   "source": [
    "widgets.SelectionSlider(\n",
    "    options=['scrambled', 'sunny side up', 'poached', 'over easy'],\n",
    "    value='sunny side up',\n",
    "    description='I like my eggs ...',\n",
    "    disabled=False,\n",
    "    continuous_update=False,\n",
    "    orientation='horizontal',\n",
    "    readout=True,\n",
    "#     readout_format='i',\n",
    "#     slider_color='black'\n",
    ")"
   ]
  },
  {
   "cell_type": "markdown",
   "metadata": {
    "slideshow": {
     "slide_type": "slide"
    }
   },
   "source": [
    "### ToggleButtons"
   ]
  },
  {
   "cell_type": "code",
   "execution_count": 21,
   "metadata": {
    "collapsed": false
   },
   "outputs": [
    {
     "data": {
      "application/vnd.jupyter.widget-view+json": {
       "model_id": "359af2aa178b497fb1670461b230f468"
      }
     },
     "metadata": {},
     "output_type": "display_data"
    }
   ],
   "source": [
    "widgets.ToggleButtons(\n",
    "    options=['Slow', 'Regular', 'Fast'],\n",
    "    description='Speed:',\n",
    "    disabled=False,\n",
    "    button_style='', # 'success', 'info', 'warning', 'danger' or ''\n",
    "    tooltip='Description',\n",
    "#     icon='check' \n",
    ")"
   ]
  },
  {
   "cell_type": "markdown",
   "metadata": {},
   "source": [
    "### SelectMultiple\n",
    "Multiple values can be selected with <kbd>shift</kbd> and/or <kbd>ctrl</kbd> (or <kbd>command</kbd>) pressed and mouse clicks or arrow keys."
   ]
  },
  {
   "cell_type": "code",
   "execution_count": 22,
   "metadata": {
    "collapsed": false
   },
   "outputs": [
    {
     "data": {
      "application/vnd.jupyter.widget-view+json": {
       "model_id": "952dd9ba475e49efa8023f9262282b61"
      }
     },
     "metadata": {},
     "output_type": "display_data"
    }
   ],
   "source": [
    "widgets.SelectMultiple(\n",
    "    options=['Apples', 'Oranges', 'Pears'],\n",
    "    value=['Oranges'],\n",
    "    description='Fruits',\n",
    "    disabled=False\n",
    ")"
   ]
  },
  {
   "cell_type": "markdown",
   "metadata": {
    "slideshow": {
     "slide_type": "slide"
    }
   },
   "source": [
    "## String widgets"
   ]
  },
  {
   "cell_type": "markdown",
   "metadata": {},
   "source": [
    "There are 4 widgets that can be used to display a string value.  Of those, the `Text` and `Textarea` widgets accept input.  The `Label` and `HTML` widgets display the string as either Label or HTML respectively, but do not accept input."
   ]
  },
  {
   "cell_type": "markdown",
   "metadata": {
    "slideshow": {
     "slide_type": "slide"
    }
   },
   "source": [
    "### Text"
   ]
  },
  {
   "cell_type": "code",
   "execution_count": 23,
   "metadata": {
    "collapsed": false
   },
   "outputs": [
    {
     "data": {
      "application/vnd.jupyter.widget-view+json": {
       "model_id": "8491e642d3cd46ae974bd7a7e98496c6"
      }
     },
     "metadata": {},
     "output_type": "display_data"
    }
   ],
   "source": [
    "widgets.Text(\n",
    "    value='Hello World',\n",
    "    placeholder='Type something',\n",
    "    description='String:',\n",
    "    disabled=False   \n",
    ")"
   ]
  },
  {
   "cell_type": "markdown",
   "metadata": {},
   "source": [
    "### Textarea"
   ]
  },
  {
   "cell_type": "code",
   "execution_count": 24,
   "metadata": {
    "collapsed": false
   },
   "outputs": [
    {
     "data": {
      "application/vnd.jupyter.widget-view+json": {
       "model_id": "1ba71f70aca44908aaf382fc00dd1b26"
      }
     },
     "metadata": {},
     "output_type": "display_data"
    }
   ],
   "source": [
    "widgets.Textarea(\n",
    "    value='Hello World',\n",
    "    placeholder='Type something',\n",
    "    description='String:',\n",
    "    disabled=False\n",
    ")"
   ]
  },
  {
   "cell_type": "markdown",
   "metadata": {
    "slideshow": {
     "slide_type": "slide"
    }
   },
   "source": [
    "### Label"
   ]
  },
  {
   "cell_type": "code",
   "execution_count": 25,
   "metadata": {
    "collapsed": false
   },
   "outputs": [
    {
     "data": {
      "application/vnd.jupyter.widget-view+json": {
       "model_id": "8599e9918a074d0688db65c3f3cbe35f"
      }
     },
     "metadata": {},
     "output_type": "display_data"
    }
   ],
   "source": [
    "widgets.Label(\n",
    "    value=\"$$\\\\frac{n!}{k!(n-k)!} = \\\\binom{n}{k}$$\",\n",
    "    placeholder='Some LaTeX',\n",
    "    description='Some LaTeX',\n",
    "    disabled=False\n",
    ")"
   ]
  },
  {
   "cell_type": "markdown",
   "metadata": {},
   "source": [
    "## HTML"
   ]
  },
  {
   "cell_type": "code",
   "execution_count": 26,
   "metadata": {
    "collapsed": false
   },
   "outputs": [
    {
     "data": {
      "application/vnd.jupyter.widget-view+json": {
       "model_id": "05ae0951128943fba8341701f54df89f"
      }
     },
     "metadata": {},
     "output_type": "display_data"
    }
   ],
   "source": [
    "widgets.HTML(\n",
    "    value=\"Hello <b>World</b>\",\n",
    "    placeholder='Some HTML',\n",
    "    description='Some HTML',\n",
    "    disabled=False\n",
    ")"
   ]
  },
  {
   "cell_type": "markdown",
   "metadata": {},
   "source": [
    "## Image"
   ]
  },
  {
   "cell_type": "code",
   "execution_count": 27,
   "metadata": {
    "collapsed": false
   },
   "outputs": [
    {
     "data": {
      "application/vnd.jupyter.widget-view+json": {
       "model_id": "eb982ddbdb09420394f8574fd13f5727"
      }
     },
     "metadata": {},
     "output_type": "display_data"
    }
   ],
   "source": [
    "file = open(\"images/WidgetArch.png\", \"rb\")\n",
    "image = file.read()\n",
    "widgets.Image(\n",
    "    value=image,\n",
    "    format='png',\n",
    "    width=300,\n",
    "    height=400\n",
    ")"
   ]
  },
  {
   "cell_type": "markdown",
   "metadata": {
    "slideshow": {
     "slide_type": "slide"
    }
   },
   "source": [
    "## Button"
   ]
  },
  {
   "cell_type": "code",
   "execution_count": 28,
   "metadata": {
    "collapsed": false
   },
   "outputs": [
    {
     "data": {
      "application/vnd.jupyter.widget-view+json": {
       "model_id": "9bce1d91a56b46179be6521e2f358fd1"
      }
     },
     "metadata": {},
     "output_type": "display_data"
    }
   ],
   "source": [
    "widgets.Button(\n",
    "    description='Click me',\n",
    "    disabled=False,\n",
    "    button_style='', # 'success', 'info', 'warning', 'danger' or ''\n",
    "    tooltip='Click me',\n",
    "    icon='check'\n",
    ")"
   ]
  },
  {
   "cell_type": "markdown",
   "metadata": {},
   "source": [
    "## Play (Animation) widget"
   ]
  },
  {
   "cell_type": "markdown",
   "metadata": {},
   "source": [
    "The `Play` widget is useful to perform animations by iterating on a sequence of integers with a certain speed."
   ]
  },
  {
   "cell_type": "code",
   "execution_count": 29,
   "metadata": {
    "collapsed": false
   },
   "outputs": [
    {
     "data": {
      "application/vnd.jupyter.widget-view+json": {
       "model_id": "ac4777c595fa49a5a96ac91e5435d3e5"
      }
     },
     "metadata": {},
     "output_type": "display_data"
    }
   ],
   "source": [
    "play = widgets.Play(\n",
    "#     interval=10,\n",
    "    value=50,\n",
    "    min=0,\n",
    "    max=100,\n",
    "    step=1,\n",
    "    description=\"Press play\",\n",
    "    disabled=False\n",
    ")\n",
    "slider = widgets.IntSlider()\n",
    "widgets.jslink((play, 'value'), (slider, 'value'))\n",
    "widgets.HBox([play, slider])"
   ]
  },
  {
   "cell_type": "markdown",
   "metadata": {},
   "source": [
    "## Date picker"
   ]
  },
  {
   "cell_type": "code",
   "execution_count": 30,
   "metadata": {
    "collapsed": false
   },
   "outputs": [
    {
     "data": {
      "application/vnd.jupyter.widget-view+json": {
       "model_id": "2f8af9ff5d4e44fa8d2464639d105f23"
      }
     },
     "metadata": {},
     "output_type": "display_data"
    }
   ],
   "source": [
    "widgets.DatePicker(\n",
    "    description='Pick a Date'\n",
    ")"
   ]
  },
  {
   "cell_type": "markdown",
   "metadata": {},
   "source": [
    "## Color picker"
   ]
  },
  {
   "cell_type": "code",
   "execution_count": 31,
   "metadata": {
    "collapsed": false
   },
   "outputs": [
    {
     "data": {
      "application/vnd.jupyter.widget-view+json": {
       "model_id": "092dad71237a41d2a6a57d7d557e785e"
      }
     },
     "metadata": {},
     "output_type": "display_data"
    }
   ],
   "source": [
    "widgets.ColorPicker(\n",
    "    concise=False,\n",
    "    description='Pick a color',\n",
    "    value='blue'\n",
    ")"
   ]
  },
  {
   "cell_type": "markdown",
   "metadata": {},
   "source": [
    "## Controller"
   ]
  },
  {
   "cell_type": "code",
   "execution_count": 32,
   "metadata": {
    "collapsed": false
   },
   "outputs": [
    {
     "data": {
      "application/vnd.jupyter.widget-view+json": {
       "model_id": "12f98255b61a4370b5089e5a6460e26b"
      }
     },
     "metadata": {},
     "output_type": "display_data"
    }
   ],
   "source": [
    "widgets.Controller(\n",
    "    index=0,\n",
    ")"
   ]
  },
  {
   "cell_type": "markdown",
   "metadata": {},
   "source": [
    "## Layout widgets"
   ]
  },
  {
   "cell_type": "markdown",
   "metadata": {},
   "source": [
    "### Box"
   ]
  },
  {
   "cell_type": "markdown",
   "metadata": {},
   "source": [
    "### HBox"
   ]
  },
  {
   "cell_type": "code",
   "execution_count": 33,
   "metadata": {
    "collapsed": false
   },
   "outputs": [
    {
     "data": {
      "application/vnd.jupyter.widget-view+json": {
       "model_id": "8c305f0b360849df936631277acd9183"
      }
     },
     "metadata": {},
     "output_type": "display_data"
    }
   ],
   "source": [
    "items = [widgets.Label(str(i)) for i in range(4)]\n",
    "widgets.HBox(items)"
   ]
  },
  {
   "cell_type": "markdown",
   "metadata": {},
   "source": [
    "### VBox"
   ]
  },
  {
   "cell_type": "code",
   "execution_count": 34,
   "metadata": {
    "collapsed": false
   },
   "outputs": [
    {
     "data": {
      "application/vnd.jupyter.widget-view+json": {
       "model_id": "f7571d9304c6450f81622c691784f9f0"
      }
     },
     "metadata": {},
     "output_type": "display_data"
    }
   ],
   "source": [
    "items = [widgets.Label(str(i)) for i in range(4)]\n",
    "widgets.HBox([widgets.VBox([items[0], items[1]]), widgets.VBox([items[2], items[3]])])"
   ]
  },
  {
   "cell_type": "markdown",
   "metadata": {},
   "source": [
    "### Accordion"
   ]
  },
  {
   "cell_type": "code",
   "execution_count": 35,
   "metadata": {
    "collapsed": false
   },
   "outputs": [
    {
     "data": {
      "application/vnd.jupyter.widget-view+json": {
       "model_id": "f9ddcdabca7a47c3ab946d3efd39a73c"
      }
     },
     "metadata": {},
     "output_type": "display_data"
    }
   ],
   "source": [
    "accordion = widgets.Accordion(children=[widgets.IntSlider(), widgets.Text()])\n",
    "accordion.set_title(0, 'Slider')\n",
    "accordion.set_title(1, 'Text')\n",
    "accordion"
   ]
  },
  {
   "cell_type": "markdown",
   "metadata": {},
   "source": [
    "### Tabs"
   ]
  },
  {
   "cell_type": "code",
   "execution_count": 36,
   "metadata": {
    "collapsed": false
   },
   "outputs": [
    {
     "data": {
      "application/vnd.jupyter.widget-view+json": {
       "model_id": "d00357477edf43b5a690a455aa576fd1"
      }
     },
     "metadata": {},
     "output_type": "display_data"
    }
   ],
   "source": [
    "list = ['P0', 'P1', 'P2', 'P3', 'P4']\n",
    "children = [widgets.Text(description=name) for name in list]\n",
    "tab = widgets.Tab(children=children)\n",
    "tab"
   ]
  },
  {
   "cell_type": "markdown",
   "metadata": {
    "nbsphinx": "hidden"
   },
   "source": [
    "[Index](Index.ipynb) - [Back](Widget Basics.ipynb) - [Next](Widget Events.ipynb)"
   ]
  },
  {
   "cell_type": "code",
   "execution_count": null,
   "metadata": {
    "collapsed": true
   },
   "outputs": [],
   "source": []
  }
 ],
 "metadata": {
  "kernelspec": {
   "display_name": "Python 3",
   "language": "python",
   "name": "python3"
  },
  "language_info": {
   "codemirror_mode": {
    "name": "ipython",
    "version": 3
   },
   "file_extension": ".py",
   "mimetype": "text/x-python",
   "name": "python",
   "nbconvert_exporter": "python",
   "pygments_lexer": "ipython3",
   "version": "3.5.2"
  },
  "widgets": {
   "application/vnd.jupyter.widget-state+json": {
    "state": {
     "020a15c3d8964a979272c243da014e45": {
      "model_module": "jupyter-js-widgets",
      "model_module_version": "^2.0.20",
      "model_name": "LayoutModel",
      "state": {
       "_model_module_version": "^2.0.20",
       "_view_module_version": "^2.0.20"
      }
     },
     "02c96e8f227b414f97cd516efe0ad45f": {
      "model_module": "jupyter-js-widgets",
      "model_module_version": "^2.0.20",
      "model_name": "FloatTextModel",
      "state": {
       "_model_module_version": "^2.0.20",
       "_view_module_version": "^2.0.20",
       "description": "Text:",
       "layout": "IPY_MODEL_41feccd7c5cd40c0bd6322901c50940b",
       "max": 10,
       "min": 0,
       "step": 0.1,
       "value": 7.5
      }
     },
     "05ae0951128943fba8341701f54df89f": {
      "model_module": "jupyter-js-widgets",
      "model_module_version": "^2.0.20",
      "model_name": "HTMLModel",
      "state": {
       "_model_module_version": "^2.0.20",
       "_view_module_version": "^2.0.20",
       "description": "Some HTML",
       "layout": "IPY_MODEL_fbae12683f0a4bd2a43f071af3c1ee7e",
       "placeholder": "Some HTML",
       "value": "Hello <b>World</b>"
      }
     },
     "092dad71237a41d2a6a57d7d557e785e": {
      "model_module": "jupyter-js-widgets",
      "model_module_version": "^2.0.20",
      "model_name": "ColorPickerModel",
      "state": {
       "_model_module_version": "^2.0.20",
       "_view_module_version": "^2.0.20",
       "description": "Pick a color",
       "layout": "IPY_MODEL_2bb2a0a633654a37979f4b63812a8333",
       "value": "blue"
      }
     },
     "09d04a511a6f40aea4e4791b09755bd4": {
      "model_module": "jupyter-js-widgets",
      "model_module_version": "^2.0.20",
      "model_name": "LinkModel",
      "state": {
       "_model_module_version": "^2.0.20",
       "_view_module_version": "^2.0.20",
       "source": [
        "IPY_MODEL_ab3abbff15df409a980235738ad007dd",
        "value"
       ],
       "target": [
        "IPY_MODEL_1b1946dd183f46c19e55a1d7f02372de",
        "value"
       ]
      }
     },
     "0afd6fc401f541e59dd8cb11a262155d": {
      "model_module": "jupyter-js-widgets",
      "model_module_version": "^2.0.20",
      "model_name": "LayoutModel",
      "state": {
       "_model_module_version": "^2.0.20",
       "_view_module_version": "^2.0.20"
      }
     },
     "0b780ff027324d89bf85abc3ec56b4cd": {
      "model_module": "jupyter-js-widgets",
      "model_module_version": "^2.0.20",
      "model_name": "LayoutModel",
      "state": {
       "_model_module_version": "^2.0.20",
       "_view_module_version": "^2.0.20"
      }
     },
     "0c0abf0c55bf45668a0532e61eca9990": {
      "model_module": "jupyter-js-widgets",
      "model_module_version": "^2.0.20",
      "model_name": "FloatTextModel",
      "state": {
       "_model_module_version": "^2.0.20",
       "_view_module_version": "^2.0.20",
       "description": "Any:",
       "layout": "IPY_MODEL_67fd3156827a49dbb87b155626d86d23",
       "value": 7.5
      }
     },
     "0d202097fe404866951eb8d9031bd213": {
      "model_module": "jupyter-js-widgets",
      "model_module_version": "^2.0.20",
      "model_name": "TextModel",
      "state": {
       "_model_module_version": "^2.0.20",
       "_view_module_version": "^2.0.20",
       "description": "P4",
       "layout": "IPY_MODEL_37329c9c34d649e585e39af12fc1dd14"
      }
     },
     "12f98255b61a4370b5089e5a6460e26b": {
      "model_module": "jupyter-js-widgets",
      "model_module_version": "^2.0.20",
      "model_name": "ControllerModel",
      "state": {
       "_model_module_version": "^2.0.20",
       "_view_module_version": "^2.0.20",
       "layout": "IPY_MODEL_b13b3f3744014c03a8db36430b2040d3"
      }
     },
     "13c96b6c9f344c7aae8e7306b28f9593": {
      "model_module": "jupyter-js-widgets",
      "model_module_version": "^2.0.20",
      "model_name": "LayoutModel",
      "state": {
       "_model_module_version": "^2.0.20",
       "_view_module_version": "^2.0.20"
      }
     },
     "152816e4bf78439e91a091d9fc6cddc0": {
      "model_module": "jupyter-js-widgets",
      "model_module_version": "^2.0.20",
      "model_name": "SelectionSliderModel",
      "state": {
       "_model_module_version": "^2.0.20",
       "_options_labels": [
        "scrambled",
        "sunny side up",
        "poached",
        "over easy"
       ],
       "_view_module_version": "^2.0.20",
       "continuous_update": false,
       "description": "I like my eggs ...",
       "layout": "IPY_MODEL_d7b3cf20113344b1bb4c8ad4bfe090a5",
       "value": "sunny side up"
      }
     },
     "19ffde2d77a64767a599d69b80b28d7f": {
      "model_module": "jupyter-js-widgets",
      "model_module_version": "^2.0.20",
      "model_name": "LayoutModel",
      "state": {
       "_model_module_version": "^2.0.20",
       "_view_module_version": "^2.0.20"
      }
     },
     "1b1946dd183f46c19e55a1d7f02372de": {
      "model_module": "jupyter-js-widgets",
      "model_module_version": "^2.0.20",
      "model_name": "IntSliderModel",
      "state": {
       "_model_module_version": "^2.0.20",
       "_view_module_version": "^2.0.20",
       "layout": "IPY_MODEL_34f455dcfe3a40b2afa60979fba4dba3",
       "value": 50
      }
     },
     "1b38c0adb33749c3b743dfc6e4d15cfc": {
      "model_module": "jupyter-js-widgets",
      "model_module_version": "^2.0.20",
      "model_name": "LayoutModel",
      "state": {
       "_model_module_version": "^2.0.20",
       "_view_module_version": "^2.0.20"
      }
     },
     "1ba71f70aca44908aaf382fc00dd1b26": {
      "model_module": "jupyter-js-widgets",
      "model_module_version": "^2.0.20",
      "model_name": "TextareaModel",
      "state": {
       "_model_module_version": "^2.0.20",
       "_view_module_version": "^2.0.20",
       "description": "String:",
       "layout": "IPY_MODEL_bfbad4f7a54548bd8a77e465998a4361",
       "placeholder": "Type something",
       "value": "Hello World"
      }
     },
     "1ed1b574692940b7b0a6d91411594042": {
      "model_module": "jupyter-js-widgets",
      "model_module_version": "^2.0.20",
      "model_name": "LayoutModel",
      "state": {
       "_model_module_version": "^2.0.20",
       "_view_module_version": "^2.0.20"
      }
     },
     "213818e6f8df433a86cae9023382ef29": {
      "model_module": "jupyter-js-widgets",
      "model_module_version": "^2.0.20",
      "model_name": "LabelModel",
      "state": {
       "_model_module_version": "^2.0.20",
       "_view_module_version": "^2.0.20",
       "layout": "IPY_MODEL_b5c34ccf40704477ab2ed7bbd8983be0",
       "value": "0"
      }
     },
     "24ab1a1fc9c94a2ba59ad640f471fb53": {
      "model_module": "jupyter-js-widgets",
      "model_module_version": "^2.0.20",
      "model_name": "TextModel",
      "state": {
       "_model_module_version": "^2.0.20",
       "_view_module_version": "^2.0.20",
       "layout": "IPY_MODEL_ad3fabffe1894d288cf6d7760b9d390c"
      }
     },
     "29231e00589a4735b7e624f94c226f94": {
      "model_module": "jupyter-js-widgets",
      "model_module_version": "^2.0.20",
      "model_name": "RadioButtonsModel",
      "state": {
       "_model_module_version": "^2.0.20",
       "_options_labels": [
        "pepperoni",
        "pineapple",
        "anchovies"
       ],
       "_view_module_version": "^2.0.20",
       "description": "Pizza topping:",
       "layout": "IPY_MODEL_0b780ff027324d89bf85abc3ec56b4cd",
       "value": "pepperoni"
      }
     },
     "2b2fda6e3dac4be6aee4b8d6b23c0664": {
      "model_module": "jupyter-js-widgets",
      "model_module_version": "^2.0.20",
      "model_name": "ToggleButtonModel",
      "state": {
       "_model_module_version": "^2.0.20",
       "_view_module_version": "^2.0.20",
       "description": "Click me",
       "icon": "check",
       "layout": "IPY_MODEL_737fd99378a94605b92746a093f2b8a4",
       "tooltip": "Description"
      }
     },
     "2bb2a0a633654a37979f4b63812a8333": {
      "model_module": "jupyter-js-widgets",
      "model_module_version": "^2.0.20",
      "model_name": "LayoutModel",
      "state": {
       "_model_module_version": "^2.0.20",
       "_view_module_version": "^2.0.20"
      }
     },
     "2d6ea56d7c7442ef84e1ecdfec400540": {
      "model_module": "jupyter-js-widgets",
      "model_module_version": "^2.0.20",
      "model_name": "LayoutModel",
      "state": {
       "_model_module_version": "^2.0.20",
       "_view_module_version": "^2.0.20"
      }
     },
     "2f8af9ff5d4e44fa8d2464639d105f23": {
      "model_module": "jupyter-js-widgets",
      "model_module_version": "^2.0.20",
      "model_name": "DatePickerModel",
      "state": {
       "_model_module_version": "^2.0.20",
       "_view_module_version": "^2.0.20",
       "description": "Pick a Date",
       "layout": "IPY_MODEL_997ee947898a45ee8b53ab644c3f9028"
      }
     },
     "3015cb73c1644e38986485f8ffd4da5f": {
      "model_module": "jupyter-js-widgets",
      "model_module_version": "^2.0.20",
      "model_name": "LayoutModel",
      "state": {
       "_model_module_version": "^2.0.20",
       "_view_module_version": "^2.0.20"
      }
     },
     "3179d549c2324e85b357901c3cb50746": {
      "model_module": "jupyter-js-widgets",
      "model_module_version": "^2.0.20",
      "model_name": "LayoutModel",
      "state": {
       "_model_module_version": "^2.0.20",
       "_view_module_version": "^2.0.20"
      }
     },
     "34f455dcfe3a40b2afa60979fba4dba3": {
      "model_module": "jupyter-js-widgets",
      "model_module_version": "^2.0.20",
      "model_name": "LayoutModel",
      "state": {
       "_model_module_version": "^2.0.20",
       "_view_module_version": "^2.0.20"
      }
     },
     "359af2aa178b497fb1670461b230f468": {
      "model_module": "jupyter-js-widgets",
      "model_module_version": "^2.0.20",
      "model_name": "ToggleButtonsModel",
      "state": {
       "_model_module_version": "^2.0.20",
       "_options_labels": [
        "Slow",
        "Regular",
        "Fast"
       ],
       "_view_module_version": "^2.0.20",
       "button_style": "",
       "description": "Speed:",
       "icons": [],
       "layout": "IPY_MODEL_8eb6acfc15ee4f0da8aa0e276a2a9b08",
       "tooltips": [],
       "value": "Slow"
      }
     },
     "37329c9c34d649e585e39af12fc1dd14": {
      "model_module": "jupyter-js-widgets",
      "model_module_version": "^2.0.20",
      "model_name": "LayoutModel",
      "state": {
       "_model_module_version": "^2.0.20",
       "_view_module_version": "^2.0.20"
      }
     },
     "3f276428bf99484589d8f9a6870ce975": {
      "model_module": "jupyter-js-widgets",
      "model_module_version": "^2.0.20",
      "model_name": "FloatSliderModel",
      "state": {
       "_model_module_version": "^2.0.20",
       "_view_module_version": "^2.0.20",
       "continuous_update": false,
       "description": "Test:",
       "layout": "IPY_MODEL_2d6ea56d7c7442ef84e1ecdfec400540",
       "max": 10,
       "readout_format": ".1f",
       "slider_color": "white",
       "step": 0.1,
       "value": 7.5
      }
     },
     "41350ef7f112416b904e60da25ddb152": {
      "model_module": "jupyter-js-widgets",
      "model_module_version": "^2.0.20",
      "model_name": "LayoutModel",
      "state": {
       "_model_module_version": "^2.0.20",
       "_view_module_version": "^2.0.20"
      }
     },
     "41feccd7c5cd40c0bd6322901c50940b": {
      "model_module": "jupyter-js-widgets",
      "model_module_version": "^2.0.20",
      "model_name": "LayoutModel",
      "state": {
       "_model_module_version": "^2.0.20",
       "_view_module_version": "^2.0.20"
      }
     },
     "421cb09b961c4b02bb6fe74fb92a0d52": {
      "model_module": "jupyter-js-widgets",
      "model_module_version": "^2.0.20",
      "model_name": "LabelModel",
      "state": {
       "_model_module_version": "^2.0.20",
       "_view_module_version": "^2.0.20",
       "layout": "IPY_MODEL_43c9136b61754f3aa2b4b2d071fbe1eb",
       "value": "1"
      }
     },
     "43c9136b61754f3aa2b4b2d071fbe1eb": {
      "model_module": "jupyter-js-widgets",
      "model_module_version": "^2.0.20",
      "model_name": "LayoutModel",
      "state": {
       "_model_module_version": "^2.0.20",
       "_view_module_version": "^2.0.20"
      }
     },
     "4aec0c84bbf6437ba7f3f18097053a7b": {
      "model_module": "jupyter-js-widgets",
      "model_module_version": "^2.0.20",
      "model_name": "IntSliderModel",
      "state": {
       "_model_module_version": "^2.0.20",
       "_view_module_version": "^2.0.20",
       "layout": "IPY_MODEL_8993cd3f8fca4118a872e0123a3d557a"
      }
     },
     "53d11a3db0f5422cb62715936d039718": {
      "model_module": "jupyter-js-widgets",
      "model_module_version": "^2.0.20",
      "model_name": "IntSliderModel",
      "state": {
       "_model_module_version": "^2.0.20",
       "_view_module_version": "^2.0.20",
       "continuous_update": false,
       "description": "Test:",
       "layout": "IPY_MODEL_f5a7bb6d14fb4f9cbcea8e2fab8c0dfb",
       "max": 10,
       "readout_format": "i",
       "slider_color": "white",
       "value": 7
      }
     },
     "541ed4f76bf5428faa519c5bf855d31c": {
      "model_module": "jupyter-js-widgets",
      "model_module_version": "^2.0.20",
      "model_name": "ProgressModel",
      "state": {
       "_model_module_version": "^2.0.20",
       "_view_module_version": "^2.0.20",
       "bar_style": "info",
       "description": "Loading:",
       "layout": "IPY_MODEL_b9d1e2fdf99d4a7aae3b0530aa046fdc",
       "max": 10,
       "step": 0.1,
       "value": 7.5
      }
     },
     "5b3c4f0c254c4d048765a16734874f11": {
      "model_module": "jupyter-js-widgets",
      "model_module_version": "^2.0.20",
      "model_name": "LabelModel",
      "state": {
       "_model_module_version": "^2.0.20",
       "_view_module_version": "^2.0.20",
       "layout": "IPY_MODEL_1ed1b574692940b7b0a6d91411594042",
       "value": "1"
      }
     },
     "5d83df4ce59e4814b46852595212d767": {
      "model_module": "jupyter-js-widgets",
      "model_module_version": "^2.0.20",
      "model_name": "FloatSliderModel",
      "state": {
       "_model_module_version": "^2.0.20",
       "_view_module_version": "^2.0.20",
       "continuous_update": false,
       "description": "Test:",
       "layout": "IPY_MODEL_3015cb73c1644e38986485f8ffd4da5f",
       "max": 10,
       "orientation": "vertical",
       "readout_format": ".1f",
       "slider_color": "white",
       "step": 0.1,
       "value": 7.5
      }
     },
     "67fd3156827a49dbb87b155626d86d23": {
      "model_module": "jupyter-js-widgets",
      "model_module_version": "^2.0.20",
      "model_name": "LayoutModel",
      "state": {
       "_model_module_version": "^2.0.20",
       "_view_module_version": "^2.0.20"
      }
     },
     "68e4506b9ae24f8fa5ada549aa32553e": {
      "model_module": "jupyter-js-widgets",
      "model_module_version": "^2.0.20",
      "model_name": "LayoutModel",
      "state": {
       "_model_module_version": "^2.0.20",
       "_view_module_version": "^2.0.20"
      }
     },
     "6ba053c506a94f5a8c589a38934625ca": {
      "model_module": "jupyter-js-widgets",
      "model_module_version": "^2.0.20",
      "model_name": "LayoutModel",
      "state": {
       "_model_module_version": "^2.0.20",
       "_view_module_version": "^2.0.20"
      }
     },
     "6eb6e8b0e2254db0a5a3b9b1fdc4cef4": {
      "model_module": "jupyter-js-widgets",
      "model_module_version": "^2.0.20",
      "model_name": "LayoutModel",
      "state": {
       "_model_module_version": "^2.0.20",
       "_view_module_version": "^2.0.20"
      }
     },
     "70eb23f634b844f5831b12c013387143": {
      "model_module": "jupyter-js-widgets",
      "model_module_version": "^2.0.20",
      "model_name": "TextModel",
      "state": {
       "_model_module_version": "^2.0.20",
       "_view_module_version": "^2.0.20",
       "description": "P2",
       "layout": "IPY_MODEL_68e4506b9ae24f8fa5ada549aa32553e"
      }
     },
     "71fb30ff2f4d4163b41fb6a41112a21d": {
      "model_module": "jupyter-js-widgets",
      "model_module_version": "^2.0.20",
      "model_name": "ProgressModel",
      "state": {
       "_model_module_version": "^2.0.20",
       "_view_module_version": "^2.0.20",
       "description": "Loading:",
       "layout": "IPY_MODEL_b6e82e7873d645c7844809ddf88111fd",
       "max": 10,
       "value": 7
      }
     },
     "737fd99378a94605b92746a093f2b8a4": {
      "model_module": "jupyter-js-widgets",
      "model_module_version": "^2.0.20",
      "model_name": "LayoutModel",
      "state": {
       "_model_module_version": "^2.0.20",
       "_view_module_version": "^2.0.20"
      }
     },
     "78158e3d246b40ee83ccb94322012c85": {
      "model_module": "jupyter-js-widgets",
      "model_module_version": "^2.0.20",
      "model_name": "LayoutModel",
      "state": {
       "_model_module_version": "^2.0.20",
       "_view_module_version": "^2.0.20"
      }
     },
     "7a7a112d477c4ab288501b81491b2280": {
      "model_module": "jupyter-js-widgets",
      "model_module_version": "^2.0.20",
      "model_name": "LayoutModel",
      "state": {
       "_model_module_version": "^2.0.20",
       "_view_module_version": "^2.0.20"
      }
     },
     "7b35329828cc49c48848ae6aa2236365": {
      "model_module": "jupyter-js-widgets",
      "model_module_version": "^2.0.20",
      "model_name": "IntTextModel",
      "state": {
       "_model_module_version": "^2.0.20",
       "_view_module_version": "^2.0.20",
       "description": "Any:",
       "layout": "IPY_MODEL_90b5ea076b234927a835ac5baee80bf7",
       "value": 7
      }
     },
     "7f31b0b47cbd4c5aa4f7f869d7487419": {
      "model_module": "jupyter-js-widgets",
      "model_module_version": "^2.0.20",
      "model_name": "LayoutModel",
      "state": {
       "_model_module_version": "^2.0.20",
       "_view_module_version": "^2.0.20"
      }
     },
     "7f85945b7a33446b926e8330cb2f736e": {
      "model_module": "jupyter-js-widgets",
      "model_module_version": "^2.0.20",
      "model_name": "LayoutModel",
      "state": {
       "_model_module_version": "^2.0.20",
       "_view_module_version": "^2.0.20"
      }
     },
     "8491e642d3cd46ae974bd7a7e98496c6": {
      "model_module": "jupyter-js-widgets",
      "model_module_version": "^2.0.20",
      "model_name": "TextModel",
      "state": {
       "_model_module_version": "^2.0.20",
       "_view_module_version": "^2.0.20",
       "description": "String:",
       "layout": "IPY_MODEL_6eb6e8b0e2254db0a5a3b9b1fdc4cef4",
       "placeholder": "Type something",
       "value": "Hello World"
      }
     },
     "8599e9918a074d0688db65c3f3cbe35f": {
      "model_module": "jupyter-js-widgets",
      "model_module_version": "^2.0.20",
      "model_name": "LabelModel",
      "state": {
       "_model_module_version": "^2.0.20",
       "_view_module_version": "^2.0.20",
       "description": "Some LaTeX",
       "layout": "IPY_MODEL_0afd6fc401f541e59dd8cb11a262155d",
       "placeholder": "Some LaTeX",
       "value": "$$\\frac{n!}{k!(n-k)!} = \\binom{n}{k}$$"
      }
     },
     "8993cd3f8fca4118a872e0123a3d557a": {
      "model_module": "jupyter-js-widgets",
      "model_module_version": "^2.0.20",
      "model_name": "LayoutModel",
      "state": {
       "_model_module_version": "^2.0.20",
       "_view_module_version": "^2.0.20"
      }
     },
     "8c305f0b360849df936631277acd9183": {
      "model_module": "jupyter-js-widgets",
      "model_module_version": "^2.0.20",
      "model_name": "HBoxModel",
      "state": {
       "_model_module_version": "^2.0.20",
       "_view_module_version": "^2.0.20",
       "children": [
        "IPY_MODEL_8c75c187f8fd48e0a15f7680b0b44707",
        "IPY_MODEL_421cb09b961c4b02bb6fe74fb92a0d52",
        "IPY_MODEL_ddb7fdbf992c4358a31ffbf7ab2542da",
        "IPY_MODEL_c5742336b51b495586b98595ce85d87d"
       ],
       "layout": "IPY_MODEL_bb04eb1eb2214176987c79b39c6f1e65"
      }
     },
     "8c75c187f8fd48e0a15f7680b0b44707": {
      "model_module": "jupyter-js-widgets",
      "model_module_version": "^2.0.20",
      "model_name": "LabelModel",
      "state": {
       "_model_module_version": "^2.0.20",
       "_view_module_version": "^2.0.20",
       "layout": "IPY_MODEL_c7dd7df581b34aea9491e1cdc458d9fb",
       "value": "0"
      }
     },
     "8ce734504d7c458f9649e51548bbaeed": {
      "model_module": "jupyter-js-widgets",
      "model_module_version": "^2.0.20",
      "model_name": "LayoutModel",
      "state": {
       "_model_module_version": "^2.0.20",
       "_view_module_version": "^2.0.20"
      }
     },
     "8eb6acfc15ee4f0da8aa0e276a2a9b08": {
      "model_module": "jupyter-js-widgets",
      "model_module_version": "^2.0.20",
      "model_name": "LayoutModel",
      "state": {
       "_model_module_version": "^2.0.20",
       "_view_module_version": "^2.0.20"
      }
     },
     "8f3fe583e4014865a01b3f46ce11a9e9": {
      "model_module": "jupyter-js-widgets",
      "model_module_version": "^2.0.20",
      "model_name": "LabelModel",
      "state": {
       "_model_module_version": "^2.0.20",
       "_view_module_version": "^2.0.20",
       "layout": "IPY_MODEL_3179d549c2324e85b357901c3cb50746",
       "value": "3"
      }
     },
     "90b5ea076b234927a835ac5baee80bf7": {
      "model_module": "jupyter-js-widgets",
      "model_module_version": "^2.0.20",
      "model_name": "LayoutModel",
      "state": {
       "_model_module_version": "^2.0.20",
       "_view_module_version": "^2.0.20"
      }
     },
     "944d00da07b944a38e6af6588aa51e95": {
      "model_module": "jupyter-js-widgets",
      "model_module_version": "^2.0.20",
      "model_name": "IntSliderModel",
      "state": {
       "_model_module_version": "^2.0.20",
       "_range": true,
       "_view_module_version": "^2.0.20",
       "continuous_update": false,
       "description": "Test:",
       "layout": "IPY_MODEL_7a7a112d477c4ab288501b81491b2280",
       "max": 10,
       "slider_color": "white",
       "value": [
        5,
        7
       ]
      }
     },
     "952dd9ba475e49efa8023f9262282b61": {
      "model_module": "jupyter-js-widgets",
      "model_module_version": "^2.0.20",
      "model_name": "SelectMultipleModel",
      "state": {
       "_model_module_version": "^2.0.20",
       "_options_labels": [
        "Apples",
        "Oranges",
        "Pears"
       ],
       "_view_module_version": "^2.0.20",
       "description": "Fruits",
       "layout": "IPY_MODEL_e80d315845d048cdaed6ff75e36f0d32",
       "value": [
        "Oranges"
       ]
      }
     },
     "979530085546426fb4cd30dddd4f6a8f": {
      "model_module": "jupyter-js-widgets",
      "model_module_version": "^2.0.20",
      "model_name": "LayoutModel",
      "state": {
       "_model_module_version": "^2.0.20",
       "_view_module_version": "^2.0.20"
      }
     },
     "97ebd884427b4155a20674133bb85643": {
      "model_module": "jupyter-js-widgets",
      "model_module_version": "^2.0.20",
      "model_name": "VBoxModel",
      "state": {
       "_model_module_version": "^2.0.20",
       "_view_module_version": "^2.0.20",
       "children": [
        "IPY_MODEL_c79d6cc51cbf4ca1ae4dc4686cab42c4",
        "IPY_MODEL_8f3fe583e4014865a01b3f46ce11a9e9"
       ],
       "layout": "IPY_MODEL_979530085546426fb4cd30dddd4f6a8f"
      }
     },
     "98d2da0d8b1446aea74df627deea8da0": {
      "model_module": "jupyter-js-widgets",
      "model_module_version": "^2.0.20",
      "model_name": "IntTextModel",
      "state": {
       "_model_module_version": "^2.0.20",
       "_view_module_version": "^2.0.20",
       "description": "Text:",
       "layout": "IPY_MODEL_41350ef7f112416b904e60da25ddb152",
       "max": 10,
       "min": 0,
       "step": 1,
       "value": 7
      }
     },
     "997ee947898a45ee8b53ab644c3f9028": {
      "model_module": "jupyter-js-widgets",
      "model_module_version": "^2.0.20",
      "model_name": "LayoutModel",
      "state": {
       "_model_module_version": "^2.0.20",
       "_view_module_version": "^2.0.20"
      }
     },
     "9bce1d91a56b46179be6521e2f358fd1": {
      "model_module": "jupyter-js-widgets",
      "model_module_version": "^2.0.20",
      "model_name": "ButtonModel",
      "state": {
       "_model_module_version": "^2.0.20",
       "_view_module_version": "^2.0.20",
       "description": "Click me",
       "icon": "check",
       "layout": "IPY_MODEL_8ce734504d7c458f9649e51548bbaeed",
       "tooltip": "Click me"
      }
     },
     "9de9b18c5cba4b5f9c007e6add93ccf1": {
      "model_module": "jupyter-js-widgets",
      "model_module_version": "^2.0.20",
      "model_name": "LayoutModel",
      "state": {
       "_model_module_version": "^2.0.20",
       "_view_module_version": "^2.0.20"
      }
     },
     "9e801022dd9e4c0b83c438d9528203e3": {
      "model_module": "jupyter-js-widgets",
      "model_module_version": "^2.0.20",
      "model_name": "FloatSliderModel",
      "state": {
       "_model_module_version": "^2.0.20",
       "_range": true,
       "_view_module_version": "^2.0.20",
       "continuous_update": false,
       "description": "Test:",
       "layout": "IPY_MODEL_eaf33e639e8245cd987aaedf80885bd9",
       "max": 10,
       "slider_color": "white",
       "step": 0.1,
       "value": [
        5,
        7.5
       ]
      }
     },
     "a0000a5952ce4ad7a907b51a7dc920a0": {
      "model_module": "jupyter-js-widgets",
      "model_module_version": "^2.0.20",
      "model_name": "LayoutModel",
      "state": {
       "_model_module_version": "^2.0.20",
       "_view_module_version": "^2.0.20"
      }
     },
     "a337ed2880294d3a8ed4bc3d31d4377c": {
      "model_module": "jupyter-js-widgets",
      "model_module_version": "^2.0.20",
      "model_name": "LayoutModel",
      "state": {
       "_model_module_version": "^2.0.20",
       "_view_module_version": "^2.0.20"
      }
     },
     "ab3abbff15df409a980235738ad007dd": {
      "model_module": "jupyter-js-widgets",
      "model_module_version": "^2.0.20",
      "model_name": "PlayModel",
      "state": {
       "_model_module_version": "^2.0.20",
       "_view_module_version": "^2.0.20",
       "description": "Press play",
       "layout": "IPY_MODEL_19ffde2d77a64767a599d69b80b28d7f",
       "value": 50
      }
     },
     "ac4777c595fa49a5a96ac91e5435d3e5": {
      "model_module": "jupyter-js-widgets",
      "model_module_version": "^2.0.20",
      "model_name": "HBoxModel",
      "state": {
       "_model_module_version": "^2.0.20",
       "_view_module_version": "^2.0.20",
       "children": [
        "IPY_MODEL_ab3abbff15df409a980235738ad007dd",
        "IPY_MODEL_1b1946dd183f46c19e55a1d7f02372de"
       ],
       "layout": "IPY_MODEL_aee1e2acfe874c789defc1e7cd3e928a"
      }
     },
     "ad3fabffe1894d288cf6d7760b9d390c": {
      "model_module": "jupyter-js-widgets",
      "model_module_version": "^2.0.20",
      "model_name": "LayoutModel",
      "state": {
       "_model_module_version": "^2.0.20",
       "_view_module_version": "^2.0.20"
      }
     },
     "aee1e2acfe874c789defc1e7cd3e928a": {
      "model_module": "jupyter-js-widgets",
      "model_module_version": "^2.0.20",
      "model_name": "LayoutModel",
      "state": {
       "_model_module_version": "^2.0.20",
       "_view_module_version": "^2.0.20"
      }
     },
     "af2437ff08b949a8902a6abddd91dd8d": {
      "model_module": "jupyter-js-widgets",
      "model_module_version": "^2.0.20",
      "model_name": "ValidModel",
      "state": {
       "_model_module_version": "^2.0.20",
       "_view_module_version": "^2.0.20",
       "description": "Valid!",
       "layout": "IPY_MODEL_b01c9b0f0f8c4f45ae061ecbf50d7304"
      }
     },
     "b01c9b0f0f8c4f45ae061ecbf50d7304": {
      "model_module": "jupyter-js-widgets",
      "model_module_version": "^2.0.20",
      "model_name": "LayoutModel",
      "state": {
       "_model_module_version": "^2.0.20",
       "_view_module_version": "^2.0.20"
      }
     },
     "b02e9fd919cc4d5d9e6e3ba7c72a8c5d": {
      "model_module": "jupyter-js-widgets",
      "model_module_version": "^2.0.20",
      "model_name": "DropdownModel",
      "state": {
       "_model_module_version": "^2.0.20",
       "_options_labels": [
        "1",
        "2",
        "3"
       ],
       "_view_module_version": "^2.0.20",
       "description": "Number:",
       "layout": "IPY_MODEL_13c96b6c9f344c7aae8e7306b28f9593",
       "value": "2"
      }
     },
     "b13b3f3744014c03a8db36430b2040d3": {
      "model_module": "jupyter-js-widgets",
      "model_module_version": "^2.0.20",
      "model_name": "LayoutModel",
      "state": {
       "_model_module_version": "^2.0.20",
       "_view_module_version": "^2.0.20"
      }
     },
     "b5c34ccf40704477ab2ed7bbd8983be0": {
      "model_module": "jupyter-js-widgets",
      "model_module_version": "^2.0.20",
      "model_name": "LayoutModel",
      "state": {
       "_model_module_version": "^2.0.20",
       "_view_module_version": "^2.0.20"
      }
     },
     "b6bd070a72c741b98766da3f051e5d67": {
      "model_module": "jupyter-js-widgets",
      "model_module_version": "^2.0.20",
      "model_name": "LayoutModel",
      "state": {
       "_model_module_version": "^2.0.20",
       "_view_module_version": "^2.0.20"
      }
     },
     "b6e82e7873d645c7844809ddf88111fd": {
      "model_module": "jupyter-js-widgets",
      "model_module_version": "^2.0.20",
      "model_name": "LayoutModel",
      "state": {
       "_model_module_version": "^2.0.20",
       "_view_module_version": "^2.0.20"
      }
     },
     "b7904a077f60462a9ec9803c54553129": {
      "model_module": "jupyter-js-widgets",
      "model_module_version": "^2.0.20",
      "model_name": "CheckboxModel",
      "state": {
       "_model_module_version": "^2.0.20",
       "_view_module_version": "^2.0.20",
       "description": "Check me",
       "disabled": false,
       "layout": "IPY_MODEL_c6be8f776e454c729ab75485463a9ee3",
       "value": false
      }
     },
     "b9d1e2fdf99d4a7aae3b0530aa046fdc": {
      "model_module": "jupyter-js-widgets",
      "model_module_version": "^2.0.20",
      "model_name": "LayoutModel",
      "state": {
       "_model_module_version": "^2.0.20",
       "_view_module_version": "^2.0.20"
      }
     },
     "bb04eb1eb2214176987c79b39c6f1e65": {
      "model_module": "jupyter-js-widgets",
      "model_module_version": "^2.0.20",
      "model_name": "LayoutModel",
      "state": {
       "_model_module_version": "^2.0.20",
       "_view_module_version": "^2.0.20"
      }
     },
     "bc2113dd1f06432aaa4ab33e07a94eb1": {
      "model_module": "jupyter-js-widgets",
      "model_module_version": "^2.0.20",
      "model_name": "DropdownModel",
      "state": {
       "_model_module_version": "^2.0.20",
       "_options_labels": [
        "Three",
        "One",
        "Two"
       ],
       "_view_module_version": "^2.0.20",
       "description": "Number:",
       "layout": "IPY_MODEL_78158e3d246b40ee83ccb94322012c85",
       "value": "Two"
      }
     },
     "bfbad4f7a54548bd8a77e465998a4361": {
      "model_module": "jupyter-js-widgets",
      "model_module_version": "^2.0.20",
      "model_name": "LayoutModel",
      "state": {
       "_model_module_version": "^2.0.20",
       "_view_module_version": "^2.0.20"
      }
     },
     "c1a56f902ea84d42837ca2c4fd87c26a": {
      "model_module": "jupyter-js-widgets",
      "model_module_version": "^2.0.20",
      "model_name": "TextModel",
      "state": {
       "_model_module_version": "^2.0.20",
       "_view_module_version": "^2.0.20",
       "description": "P1",
       "layout": "IPY_MODEL_f37189f3a8d34e169cd457126ce1cce1"
      }
     },
     "c5742336b51b495586b98595ce85d87d": {
      "model_module": "jupyter-js-widgets",
      "model_module_version": "^2.0.20",
      "model_name": "LabelModel",
      "state": {
       "_model_module_version": "^2.0.20",
       "_view_module_version": "^2.0.20",
       "layout": "IPY_MODEL_7f85945b7a33446b926e8330cb2f736e",
       "value": "3"
      }
     },
     "c6be8f776e454c729ab75485463a9ee3": {
      "model_module": "jupyter-js-widgets",
      "model_module_version": "^2.0.20",
      "model_name": "LayoutModel",
      "state": {
       "_model_module_version": "^2.0.20",
       "_view_module_version": "^2.0.20"
      }
     },
     "c79d6cc51cbf4ca1ae4dc4686cab42c4": {
      "model_module": "jupyter-js-widgets",
      "model_module_version": "^2.0.20",
      "model_name": "LabelModel",
      "state": {
       "_model_module_version": "^2.0.20",
       "_view_module_version": "^2.0.20",
       "layout": "IPY_MODEL_a0000a5952ce4ad7a907b51a7dc920a0",
       "value": "2"
      }
     },
     "c7dd7df581b34aea9491e1cdc458d9fb": {
      "model_module": "jupyter-js-widgets",
      "model_module_version": "^2.0.20",
      "model_name": "LayoutModel",
      "state": {
       "_model_module_version": "^2.0.20",
       "_view_module_version": "^2.0.20"
      }
     },
     "d00357477edf43b5a690a455aa576fd1": {
      "model_module": "jupyter-js-widgets",
      "model_module_version": "^2.0.20",
      "model_name": "TabModel",
      "state": {
       "_model_module_version": "^2.0.20",
       "_view_module_version": "^2.0.20",
       "children": [
        "IPY_MODEL_f9a3321c9b1b4130b76028d4b3173df9",
        "IPY_MODEL_c1a56f902ea84d42837ca2c4fd87c26a",
        "IPY_MODEL_70eb23f634b844f5831b12c013387143",
        "IPY_MODEL_f81993e7d28e4c548d33fcadd550159e",
        "IPY_MODEL_0d202097fe404866951eb8d9031bd213"
       ],
       "layout": "IPY_MODEL_6ba053c506a94f5a8c589a38934625ca"
      }
     },
     "d7b3cf20113344b1bb4c8ad4bfe090a5": {
      "model_module": "jupyter-js-widgets",
      "model_module_version": "^2.0.20",
      "model_name": "LayoutModel",
      "state": {
       "_model_module_version": "^2.0.20",
       "_view_module_version": "^2.0.20"
      }
     },
     "ddb7fdbf992c4358a31ffbf7ab2542da": {
      "model_module": "jupyter-js-widgets",
      "model_module_version": "^2.0.20",
      "model_name": "LabelModel",
      "state": {
       "_model_module_version": "^2.0.20",
       "_view_module_version": "^2.0.20",
       "layout": "IPY_MODEL_f4e40362f2d04ae292e28fdd4049f15d",
       "value": "2"
      }
     },
     "e80d315845d048cdaed6ff75e36f0d32": {
      "model_module": "jupyter-js-widgets",
      "model_module_version": "^2.0.20",
      "model_name": "LayoutModel",
      "state": {
       "_model_module_version": "^2.0.20",
       "_view_module_version": "^2.0.20"
      }
     },
     "eaf33e639e8245cd987aaedf80885bd9": {
      "model_module": "jupyter-js-widgets",
      "model_module_version": "^2.0.20",
      "model_name": "LayoutModel",
      "state": {
       "_model_module_version": "^2.0.20",
       "_view_module_version": "^2.0.20"
      }
     },
     "eb982ddbdb09420394f8574fd13f5727": {
      "model_module": "jupyter-js-widgets",
      "model_module_version": "^2.0.20",
      "model_name": "ImageModel",
      "state": {
       "_b64value": "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",
       "_model_module_version": "^2.0.20",
       "_view_module_version": "^2.0.20",
       "height": "400",
       "layout": "IPY_MODEL_b6bd070a72c741b98766da3f051e5d67",
       "width": "300"
      }
     },
     "f1bb7df8f1c644a582decdf4e861cb42": {
      "model_module": "jupyter-js-widgets",
      "model_module_version": "^2.0.20",
      "model_name": "VBoxModel",
      "state": {
       "_model_module_version": "^2.0.20",
       "_view_module_version": "^2.0.20",
       "children": [
        "IPY_MODEL_213818e6f8df433a86cae9023382ef29",
        "IPY_MODEL_5b3c4f0c254c4d048765a16734874f11"
       ],
       "layout": "IPY_MODEL_020a15c3d8964a979272c243da014e45"
      }
     },
     "f37189f3a8d34e169cd457126ce1cce1": {
      "model_module": "jupyter-js-widgets",
      "model_module_version": "^2.0.20",
      "model_name": "LayoutModel",
      "state": {
       "_model_module_version": "^2.0.20",
       "_view_module_version": "^2.0.20"
      }
     },
     "f4e40362f2d04ae292e28fdd4049f15d": {
      "model_module": "jupyter-js-widgets",
      "model_module_version": "^2.0.20",
      "model_name": "LayoutModel",
      "state": {
       "_model_module_version": "^2.0.20",
       "_view_module_version": "^2.0.20"
      }
     },
     "f584ba551d8942f5bf221f487f08eace": {
      "model_module": "jupyter-js-widgets",
      "model_module_version": "^2.0.20",
      "model_name": "LayoutModel",
      "state": {
       "_model_module_version": "^2.0.20",
       "_view_module_version": "^2.0.20"
      }
     },
     "f5a7bb6d14fb4f9cbcea8e2fab8c0dfb": {
      "model_module": "jupyter-js-widgets",
      "model_module_version": "^2.0.20",
      "model_name": "LayoutModel",
      "state": {
       "_model_module_version": "^2.0.20",
       "_view_module_version": "^2.0.20"
      }
     },
     "f7571d9304c6450f81622c691784f9f0": {
      "model_module": "jupyter-js-widgets",
      "model_module_version": "^2.0.20",
      "model_name": "HBoxModel",
      "state": {
       "_model_module_version": "^2.0.20",
       "_view_module_version": "^2.0.20",
       "children": [
        "IPY_MODEL_f1bb7df8f1c644a582decdf4e861cb42",
        "IPY_MODEL_97ebd884427b4155a20674133bb85643"
       ],
       "layout": "IPY_MODEL_7f31b0b47cbd4c5aa4f7f869d7487419"
      }
     },
     "f81993e7d28e4c548d33fcadd550159e": {
      "model_module": "jupyter-js-widgets",
      "model_module_version": "^2.0.20",
      "model_name": "TextModel",
      "state": {
       "_model_module_version": "^2.0.20",
       "_view_module_version": "^2.0.20",
       "description": "P3",
       "layout": "IPY_MODEL_1b38c0adb33749c3b743dfc6e4d15cfc"
      }
     },
     "f9a3321c9b1b4130b76028d4b3173df9": {
      "model_module": "jupyter-js-widgets",
      "model_module_version": "^2.0.20",
      "model_name": "TextModel",
      "state": {
       "_model_module_version": "^2.0.20",
       "_view_module_version": "^2.0.20",
       "description": "P0",
       "layout": "IPY_MODEL_a337ed2880294d3a8ed4bc3d31d4377c"
      }
     },
     "f9ddcdabca7a47c3ab946d3efd39a73c": {
      "model_module": "jupyter-js-widgets",
      "model_module_version": "^2.0.20",
      "model_name": "AccordionModel",
      "state": {
       "_model_module_version": "^2.0.20",
       "_titles": {
        "0": "Slider",
        "1": "Text"
       },
       "_view_module_version": "^2.0.20",
       "children": [
        "IPY_MODEL_4aec0c84bbf6437ba7f3f18097053a7b",
        "IPY_MODEL_24ab1a1fc9c94a2ba59ad640f471fb53"
       ],
       "layout": "IPY_MODEL_f584ba551d8942f5bf221f487f08eace"
      }
     },
     "fbae12683f0a4bd2a43f071af3c1ee7e": {
      "model_module": "jupyter-js-widgets",
      "model_module_version": "^2.0.20",
      "model_name": "LayoutModel",
      "state": {
       "_model_module_version": "^2.0.20",
       "_view_module_version": "^2.0.20"
      }
     },
     "fc18507215654804978057de1a83450d": {
      "model_module": "jupyter-js-widgets",
      "model_module_version": "^2.0.20",
      "model_name": "SelectModel",
      "state": {
       "_model_module_version": "^2.0.20",
       "_options_labels": [
        "Linux",
        "Windows",
        "OSX"
       ],
       "_view_module_version": "^2.0.20",
       "description": "OS:",
       "layout": "IPY_MODEL_9de9b18c5cba4b5f9c007e6add93ccf1",
       "value": "Linux"
      }
     }
    },
    "version_major": 1,
    "version_minor": 0
   }
  }
 },
 "nbformat": 4,
 "nbformat_minor": 1
}
